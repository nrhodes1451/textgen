{
 "cells": [
  {
   "cell_type": "markdown",
   "metadata": {},
   "source": [
    "## Load Data"
   ]
  },
  {
   "cell_type": "code",
   "execution_count": 8,
   "metadata": {},
   "outputs": [],
   "source": [
    "from numpy import array\n",
    "from pickle import dump\n",
    "from pickle import load\n",
    "from keras.utils import to_categorical\n",
    "from keras.models import Sequential\n",
    "from keras.layers import Dense\n",
    "from keras.layers import LSTM\n",
    "from keras.models import load_model\n",
    "from keras.preprocessing.sequence import pad_sequences"
   ]
  },
  {
   "cell_type": "code",
   "execution_count": 9,
   "metadata": {},
   "outputs": [],
   "source": [
    "# load doc into memory\n",
    "def load_doc(filename):\n",
    "    # open the file as read only\n",
    "    file = open(filename, 'r')\n",
    "    # read all text\n",
    "    text = file.read()\n",
    "    # close the file\n",
    "    file.close()\n",
    "    return text\n",
    "\n",
    "# load text\n",
    "raw_text = load_doc('atotc.txt')\n",
    "\n",
    "# raw_text = raw_text[:10000]"
   ]
  },
  {
   "cell_type": "code",
   "execution_count": 10,
   "metadata": {},
   "outputs": [],
   "source": [
    "# clean\n",
    "tokens = raw_text.split()\n",
    "raw_text = ' '.join(tokens)"
   ]
  },
  {
   "cell_type": "code",
   "execution_count": 11,
   "metadata": {
    "scrolled": false
   },
   "outputs": [
    {
     "name": "stdout",
     "output_type": "stream",
     "text": [
      "Total Sequences: 9917\n"
     ]
    }
   ],
   "source": [
    "# organize into sequences of characters\n",
    "length = 60\n",
    "sequences = list()\n",
    "sep = 1\n",
    "for i in range(length, len(raw_text)//sep):\n",
    "    # select sequence of tokens\n",
    "    seq = raw_text[(sep*i)-length:(sep*(i+1))]\n",
    "    # store\n",
    "    sequences.append(seq)\n",
    "print('Total Sequences: %d' % len(sequences))"
   ]
  },
  {
   "cell_type": "code",
   "execution_count": 12,
   "metadata": {},
   "outputs": [],
   "source": [
    "# save tokens to file, one dialog per line\n",
    "def save_doc(lines, filename):\n",
    "    data = '\\n'.join(lines)\n",
    "    file = open(filename, 'w')\n",
    "    file.write(data)\n",
    "    file.close()\n",
    "    \n",
    "# save sequences to file\n",
    "out_filename = 'char_sequences.txt'\n",
    "save_doc(sequences, out_filename)"
   ]
  },
  {
   "cell_type": "markdown",
   "metadata": {},
   "source": [
    "## Train Language Model\n",
    "\n",
    "### Load Data"
   ]
  },
  {
   "cell_type": "code",
   "execution_count": 13,
   "metadata": {},
   "outputs": [],
   "source": [
    "# load\n",
    "in_filename = 'char_sequences.txt'\n",
    "raw_text = load_doc(in_filename)\n",
    "lines = raw_text.split('\\n')"
   ]
  },
  {
   "cell_type": "markdown",
   "metadata": {},
   "source": [
    "### Encode Sequences"
   ]
  },
  {
   "cell_type": "code",
   "execution_count": 14,
   "metadata": {},
   "outputs": [],
   "source": [
    "chars = sorted(list(set(raw_text)))\n",
    "mapping = dict((c, i) for i, c in enumerate(chars))"
   ]
  },
  {
   "cell_type": "code",
   "execution_count": 15,
   "metadata": {},
   "outputs": [],
   "source": [
    "sequences = list()\n",
    "for line in lines:\n",
    "    # integer encode line\n",
    "    encoded_seq = [mapping[char] for char in line]\n",
    "    # store\n",
    "    sequences.append(encoded_seq)"
   ]
  },
  {
   "cell_type": "code",
   "execution_count": 16,
   "metadata": {},
   "outputs": [
    {
     "name": "stdout",
     "output_type": "stream",
     "text": [
      "Vocabulary Size: 60\n"
     ]
    }
   ],
   "source": [
    "# vocabulary size\n",
    "vocab_size = len(mapping)\n",
    "print('Vocabulary Size: %d' % vocab_size)"
   ]
  },
  {
   "cell_type": "code",
   "execution_count": 17,
   "metadata": {},
   "outputs": [],
   "source": [
    "sequences = array(sequences)\n",
    "X, y = sequences[:,:-1], sequences[:,-1]"
   ]
  },
  {
   "cell_type": "code",
   "execution_count": 18,
   "metadata": {},
   "outputs": [],
   "source": [
    "sequences = [to_categorical(x, num_classes=vocab_size) for x in X]\n",
    "X = array(sequences)\n",
    "y = to_categorical(y, num_classes=vocab_size)"
   ]
  },
  {
   "cell_type": "markdown",
   "metadata": {},
   "source": [
    "## Fit Model"
   ]
  },
  {
   "cell_type": "code",
   "execution_count": 19,
   "metadata": {},
   "outputs": [
    {
     "name": "stdout",
     "output_type": "stream",
     "text": [
      "WARNING:tensorflow:From C:\\Users\\Nick.Rhodes\\AppData\\Local\\Continuum\\anaconda3\\lib\\site-packages\\tensorflow\\python\\framework\\op_def_library.py:263: colocate_with (from tensorflow.python.framework.ops) is deprecated and will be removed in a future version.\n",
      "Instructions for updating:\n",
      "Colocations handled automatically by placer.\n",
      "_________________________________________________________________\n",
      "Layer (type)                 Output Shape              Param #   \n",
      "=================================================================\n",
      "lstm_1 (LSTM)                (None, 75)                40800     \n",
      "_________________________________________________________________\n",
      "dense_1 (Dense)              (None, 60)                4560      \n",
      "=================================================================\n",
      "Total params: 45,360\n",
      "Trainable params: 45,360\n",
      "Non-trainable params: 0\n",
      "_________________________________________________________________\n",
      "None\n"
     ]
    }
   ],
   "source": [
    "# define model\n",
    "model = Sequential()\n",
    "model.add(LSTM(75, input_shape=(X.shape[1], X.shape[2])))\n",
    "model.add(Dense(vocab_size, activation='softmax'))\n",
    "print(model.summary())"
   ]
  },
  {
   "cell_type": "code",
   "execution_count": 20,
   "metadata": {},
   "outputs": [
    {
     "name": "stdout",
     "output_type": "stream",
     "text": [
      "WARNING:tensorflow:From C:\\Users\\Nick.Rhodes\\AppData\\Local\\Continuum\\anaconda3\\lib\\site-packages\\tensorflow\\python\\ops\\math_ops.py:3066: to_int32 (from tensorflow.python.ops.math_ops) is deprecated and will be removed in a future version.\n",
      "Instructions for updating:\n",
      "Use tf.cast instead.\n",
      "Epoch 1/100\n",
      " - 21s - loss: 3.0531 - acc: 0.1759\n",
      "Epoch 2/100\n",
      " - 14s - loss: 2.7876 - acc: 0.2504\n",
      "Epoch 3/100\n",
      " - 17s - loss: 2.5880 - acc: 0.3004\n",
      "Epoch 4/100\n",
      " - 14s - loss: 2.4751 - acc: 0.3196\n",
      "Epoch 5/100\n",
      " - 14s - loss: 2.3944 - acc: 0.3325\n",
      "Epoch 6/100\n",
      " - 16s - loss: 2.3368 - acc: 0.3377\n",
      "Epoch 7/100\n",
      " - 20s - loss: 2.2864 - acc: 0.3534\n",
      "Epoch 8/100\n",
      " - 20s - loss: 2.2470 - acc: 0.3684\n",
      "Epoch 9/100\n",
      " - 15s - loss: 2.2117 - acc: 0.3718\n",
      "Epoch 10/100\n",
      " - 14s - loss: 2.1804 - acc: 0.3792\n",
      "Epoch 11/100\n",
      " - 16s - loss: 2.1533 - acc: 0.3866\n",
      "Epoch 12/100\n",
      " - 14s - loss: 2.1263 - acc: 0.3919\n",
      "Epoch 13/100\n",
      " - 15s - loss: 2.1030 - acc: 0.3959\n",
      "Epoch 14/100\n",
      " - 16s - loss: 2.0827 - acc: 0.3993\n",
      "Epoch 15/100\n",
      " - 14s - loss: 2.0596 - acc: 0.4052\n",
      "Epoch 16/100\n",
      " - 13s - loss: 2.0404 - acc: 0.4085\n",
      "Epoch 17/100\n",
      " - 14s - loss: 2.0204 - acc: 0.4127\n",
      "Epoch 18/100\n",
      " - 13s - loss: 2.0014 - acc: 0.4208\n",
      "Epoch 19/100\n",
      " - 14s - loss: 1.9833 - acc: 0.4263\n",
      "Epoch 20/100\n",
      " - 14s - loss: 1.9683 - acc: 0.4297\n",
      "Epoch 21/100\n",
      " - 13s - loss: 1.9489 - acc: 0.4352\n",
      "Epoch 22/100\n",
      " - 14s - loss: 1.9323 - acc: 0.4374\n",
      "Epoch 23/100\n",
      " - 13s - loss: 1.9161 - acc: 0.4415\n",
      "Epoch 24/100\n",
      " - 13s - loss: 1.9015 - acc: 0.4471\n",
      "Epoch 25/100\n",
      " - 13s - loss: 1.8869 - acc: 0.4463\n",
      "Epoch 26/100\n",
      " - 13s - loss: 1.8716 - acc: 0.4528\n",
      "Epoch 27/100\n",
      " - 13s - loss: 1.8585 - acc: 0.4574\n",
      "Epoch 28/100\n",
      " - 14s - loss: 1.8416 - acc: 0.4595\n",
      "Epoch 29/100\n",
      " - 13s - loss: 1.8251 - acc: 0.4659\n",
      "Epoch 30/100\n",
      " - 13s - loss: 1.8128 - acc: 0.4699\n",
      "Epoch 31/100\n",
      " - 13s - loss: 1.7991 - acc: 0.4762\n",
      "Epoch 32/100\n",
      " - 14s - loss: 1.7837 - acc: 0.4763\n",
      "Epoch 33/100\n",
      " - 13s - loss: 1.7717 - acc: 0.4800\n",
      "Epoch 34/100\n",
      " - 17s - loss: 1.7562 - acc: 0.4856\n",
      "Epoch 35/100\n",
      " - 15s - loss: 1.7444 - acc: 0.4879\n",
      "Epoch 36/100\n",
      " - 15s - loss: 1.7300 - acc: 0.4929\n",
      "Epoch 37/100\n",
      " - 14s - loss: 1.7160 - acc: 0.4919\n",
      "Epoch 38/100\n",
      " - 14s - loss: 1.7001 - acc: 0.5006\n",
      "Epoch 39/100\n",
      " - 14s - loss: 1.7322 - acc: 0.4859\n",
      "Epoch 40/100\n",
      " - 13s - loss: 1.6763 - acc: 0.5083\n",
      "Epoch 41/100\n",
      " - 15s - loss: 1.6631 - acc: 0.5117\n",
      "Epoch 42/100\n",
      " - 17s - loss: 1.6508 - acc: 0.5123\n",
      "Epoch 43/100\n",
      " - 18s - loss: 1.6385 - acc: 0.5134\n",
      "Epoch 44/100\n",
      " - 14s - loss: 1.6303 - acc: 0.5162\n",
      "Epoch 45/100\n",
      " - 14s - loss: 1.6162 - acc: 0.5208\n",
      "Epoch 46/100\n",
      " - 17s - loss: 1.6066 - acc: 0.5216\n",
      "Epoch 47/100\n",
      " - 26s - loss: 1.5929 - acc: 0.5269\n",
      "Epoch 48/100\n",
      " - 16s - loss: 1.5812 - acc: 0.5286\n",
      "Epoch 49/100\n",
      " - 14s - loss: 1.5689 - acc: 0.5320\n",
      "Epoch 50/100\n",
      " - 14s - loss: 1.5611 - acc: 0.5347\n",
      "Epoch 51/100\n",
      " - 14s - loss: 1.5471 - acc: 0.5395\n",
      "Epoch 52/100\n",
      " - 21s - loss: 1.5362 - acc: 0.5429\n",
      "Epoch 53/100\n",
      " - 19s - loss: 1.5247 - acc: 0.5441\n",
      "Epoch 54/100\n",
      " - 23s - loss: 1.5141 - acc: 0.5475\n",
      "Epoch 55/100\n",
      " - 19s - loss: 1.5021 - acc: 0.5514\n",
      "Epoch 56/100\n",
      " - 20s - loss: 1.4915 - acc: 0.5524\n",
      "Epoch 57/100\n",
      " - 16s - loss: 1.4813 - acc: 0.5594\n",
      "Epoch 58/100\n",
      " - 14s - loss: 1.4685 - acc: 0.5591\n",
      "Epoch 59/100\n",
      " - 14s - loss: 1.4562 - acc: 0.5652\n",
      "Epoch 60/100\n",
      " - 14s - loss: 1.4453 - acc: 0.5666\n",
      "Epoch 61/100\n",
      " - 15s - loss: 1.4339 - acc: 0.5736\n",
      "Epoch 62/100\n",
      " - 14s - loss: 1.4243 - acc: 0.5741\n",
      "Epoch 63/100\n",
      " - 14s - loss: 1.4122 - acc: 0.5768\n",
      "Epoch 64/100\n",
      " - 14s - loss: 1.4025 - acc: 0.5811\n",
      "Epoch 65/100\n",
      " - 14s - loss: 1.3899 - acc: 0.5848\n",
      "Epoch 66/100\n",
      " - 14s - loss: 1.3827 - acc: 0.5839\n",
      "Epoch 67/100\n",
      " - 14s - loss: 1.3687 - acc: 0.5899\n",
      "Epoch 68/100\n",
      " - 14s - loss: 1.3580 - acc: 0.5953\n",
      "Epoch 69/100\n",
      " - 14s - loss: 1.3489 - acc: 0.5949\n",
      "Epoch 70/100\n",
      " - 15s - loss: 1.3369 - acc: 0.5990\n",
      "Epoch 71/100\n",
      " - 17s - loss: 1.3284 - acc: 0.6011\n",
      "Epoch 72/100\n",
      " - 17s - loss: 1.3182 - acc: 0.6065\n",
      "Epoch 73/100\n",
      " - 16s - loss: 1.3062 - acc: 0.6097\n",
      "Epoch 74/100\n",
      " - 14s - loss: 1.2951 - acc: 0.6113\n",
      "Epoch 75/100\n",
      " - 15s - loss: 1.2847 - acc: 0.6142\n",
      "Epoch 76/100\n",
      " - 14s - loss: 1.2749 - acc: 0.6172\n",
      "Epoch 77/100\n",
      " - 14s - loss: 1.2661 - acc: 0.6196\n",
      "Epoch 78/100\n",
      " - 14s - loss: 1.2553 - acc: 0.6214\n",
      "Epoch 79/100\n",
      " - 16s - loss: 1.2491 - acc: 0.6229\n",
      "Epoch 80/100\n",
      " - 15s - loss: 1.2374 - acc: 0.6292\n",
      "Epoch 81/100\n",
      " - 14s - loss: 1.2266 - acc: 0.6311\n",
      "Epoch 82/100\n",
      " - 14s - loss: 1.2181 - acc: 0.6314\n",
      "Epoch 83/100\n",
      " - 14s - loss: 1.2091 - acc: 0.6340\n",
      "Epoch 84/100\n",
      " - 15s - loss: 1.1988 - acc: 0.6418\n",
      "Epoch 85/100\n",
      " - 14s - loss: 1.1882 - acc: 0.6444\n",
      "Epoch 86/100\n",
      " - 15s - loss: 1.1775 - acc: 0.6469\n",
      "Epoch 87/100\n",
      " - 16s - loss: 1.1703 - acc: 0.6501\n",
      "Epoch 88/100\n",
      " - 14s - loss: 1.1593 - acc: 0.6509\n",
      "Epoch 89/100\n",
      " - 15s - loss: 1.1499 - acc: 0.6544\n",
      "Epoch 90/100\n",
      " - 13s - loss: 1.1407 - acc: 0.6559\n",
      "Epoch 91/100\n",
      " - 14s - loss: 1.1321 - acc: 0.6586\n",
      "Epoch 92/100\n",
      " - 14s - loss: 1.1260 - acc: 0.6626\n",
      "Epoch 93/100\n",
      " - 14s - loss: 1.1174 - acc: 0.6640\n",
      "Epoch 94/100\n",
      " - 14s - loss: 1.1071 - acc: 0.6648\n",
      "Epoch 95/100\n",
      " - 14s - loss: 1.1046 - acc: 0.6669\n",
      "Epoch 96/100\n",
      " - 14s - loss: 1.0903 - acc: 0.6722\n",
      "Epoch 97/100\n",
      " - 16s - loss: 1.0804 - acc: 0.6730\n",
      "Epoch 98/100\n",
      " - 15s - loss: 1.0697 - acc: 0.6742\n",
      "Epoch 99/100\n",
      " - 14s - loss: 1.0646 - acc: 0.6797\n",
      "Epoch 100/100\n",
      " - 15s - loss: 1.0548 - acc: 0.6859\n"
     ]
    },
    {
     "data": {
      "text/plain": [
       "<keras.callbacks.History at 0x15d509e8>"
      ]
     },
     "execution_count": 20,
     "metadata": {},
     "output_type": "execute_result"
    }
   ],
   "source": [
    "# compile model\n",
    "model.compile(loss='categorical_crossentropy', optimizer='adam', metrics=['accuracy'])\n",
    "# fit model\n",
    "model.fit(X, y, epochs=100, verbose=2)"
   ]
  },
  {
   "cell_type": "markdown",
   "metadata": {},
   "source": [
    "## Save Model"
   ]
  },
  {
   "cell_type": "code",
   "execution_count": 27,
   "metadata": {},
   "outputs": [],
   "source": [
    "# save the model to file\n",
    "model.save('model.h5')\n",
    "\n",
    "# save the mapping\n",
    "dump(mapping, open('mapping.pkl', 'wb'))"
   ]
  },
  {
   "cell_type": "markdown",
   "metadata": {},
   "source": [
    "## Generate Text"
   ]
  },
  {
   "cell_type": "code",
   "execution_count": 22,
   "metadata": {},
   "outputs": [],
   "source": [
    "# load the model\n",
    "model = load_model('model.h5')\n",
    "\n",
    "# load the mapping\n",
    "mapping = load(open('mapping.pkl', 'rb'))"
   ]
  },
  {
   "cell_type": "code",
   "execution_count": 23,
   "metadata": {},
   "outputs": [],
   "source": [
    "def generate_seq(model, mapping, seq_length, seed_text, n_chars):\n",
    "    in_text = seed_text\n",
    "    # generate a fixed number of characters\n",
    "    for _ in range(n_chars):\n",
    "        # encode the characters as integers\n",
    "        encoded = [mapping[char] for char in in_text]\n",
    "        # truncate sequences to a fixed length\n",
    "        encoded = pad_sequences([encoded], maxlen=seq_length, truncating='pre')\n",
    "        # one hot encode\n",
    "        encoded = to_categorical(encoded, num_classes=len(mapping))\n",
    "        # predict character\n",
    "        yhat = model.predict_classes(encoded, verbose=0)\n",
    "        # reverse map integer to character\n",
    "        out_char = ''\n",
    "        for char, index in mapping.items():\n",
    "            if index == yhat:\n",
    "                out_char = char\n",
    "                break\n",
    "        # append to input\n",
    "        in_text += char\n",
    "    return in_text"
   ]
  },
  {
   "cell_type": "code",
   "execution_count": 26,
   "metadata": {},
   "outputs": [
    {
     "name": "stdout",
     "output_type": "stream",
     "text": [
      "It was stall, were goush coussengers of the sobles, and the mail, \n",
      "It was the best of times, it was the spasting in the larsess, it was the larsengers\n",
      "It was the best of tim of the checkels of the soods, and the mail, as the spaster on the sublerst of the stonds of the sobles, and the mail, wes guand and a purdering and seventlers, and the surters, and the eachman, we hes\n"
     ]
    }
   ],
   "source": [
    "# test start of rhyme\n",
    "print(generate_seq(model, mapping, length, 'It was', length))\n",
    "# test mid-line\n",
    "print(generate_seq(model, mapping, length, 'It was the best of time', length))\n",
    "# test not in original\n",
    "print(generate_seq(model, mapping, length, 'It was the best of tim ', 200))"
   ]
  },
  {
   "cell_type": "code",
   "execution_count": null,
   "metadata": {},
   "outputs": [],
   "source": []
  }
 ],
 "metadata": {
  "kernelspec": {
   "display_name": "Python 3",
   "language": "python",
   "name": "python3"
  },
  "language_info": {
   "codemirror_mode": {
    "name": "ipython",
    "version": 3
   },
   "file_extension": ".py",
   "mimetype": "text/x-python",
   "name": "python",
   "nbconvert_exporter": "python",
   "pygments_lexer": "ipython3",
   "version": "3.6.8"
  }
 },
 "nbformat": 4,
 "nbformat_minor": 2
}
