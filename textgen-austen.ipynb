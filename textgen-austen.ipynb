{
 "cells": [
  {
   "cell_type": "markdown",
   "metadata": {},
   "source": [
    "# Text generation using Keras and Tensorflow\n",
    "\n",
    "From: https://machinelearningmastery.com/develop-character-based-neural-language-model-keras/\n",
    "\n",
    "## Load Data"
   ]
  },
  {
   "cell_type": "code",
   "execution_count": 1,
   "metadata": {},
   "outputs": [
    {
     "name": "stderr",
     "output_type": "stream",
     "text": [
      "Using TensorFlow backend.\n"
     ]
    }
   ],
   "source": [
    "from numpy import array\n",
    "from pickle import dump\n",
    "from pickle import load\n",
    "from keras.utils import to_categorical\n",
    "from keras.models import Sequential\n",
    "from keras.layers import Dense\n",
    "from keras.layers import LSTM\n",
    "from keras.models import load_model\n",
    "from keras.preprocessing.sequence import pad_sequences"
   ]
  },
  {
   "cell_type": "code",
   "execution_count": 2,
   "metadata": {},
   "outputs": [],
   "source": [
    "# load doc into memory\n",
    "def load_doc(filename):\n",
    "    # open the file as read only\n",
    "    file = open(filename, 'r')\n",
    "    # read all text\n",
    "    text = file.read()\n",
    "    # close the file\n",
    "    file.close()\n",
    "    return text"
   ]
  },
  {
   "cell_type": "code",
   "execution_count": 10,
   "metadata": {},
   "outputs": [],
   "source": [
    "# load text\n",
    "raw_text = load_doc('austen.txt')\n",
    "\n",
    "raw_text = raw_text[:10000]"
   ]
  },
  {
   "cell_type": "code",
   "execution_count": 11,
   "metadata": {},
   "outputs": [],
   "source": [
    "# clean\n",
    "tokens = raw_text.split()\n",
    "raw_text = ' '.join(tokens)"
   ]
  },
  {
   "cell_type": "code",
   "execution_count": 12,
   "metadata": {
    "scrolled": false
   },
   "outputs": [
    {
     "name": "stdout",
     "output_type": "stream",
     "text": [
      "Total Sequences: 9877\n"
     ]
    }
   ],
   "source": [
    "# organize into sequences of characters\n",
    "length = 60\n",
    "sequences = list()\n",
    "sep = 1\n",
    "for i in range(length, len(raw_text)//sep):\n",
    "    # select sequence of tokens\n",
    "    seq = raw_text[(sep*i)-length:(sep*(i+1))]\n",
    "    # store\n",
    "    sequences.append(seq)\n",
    "print('Total Sequences: %d' % len(sequences))"
   ]
  },
  {
   "cell_type": "code",
   "execution_count": 13,
   "metadata": {},
   "outputs": [],
   "source": [
    "# save tokens to file, one dialog per line\n",
    "def save_doc(lines, filename):\n",
    "    data = '\\n'.join(lines)\n",
    "    file = open(filename, 'w')\n",
    "    file.write(data)\n",
    "    file.close()\n",
    "    \n",
    "# save sequences to file\n",
    "out_filename = 'char_sequences.txt'\n",
    "save_doc(sequences, out_filename)"
   ]
  },
  {
   "cell_type": "markdown",
   "metadata": {},
   "source": [
    "## Train Language Model\n",
    "\n",
    "### Load Data"
   ]
  },
  {
   "cell_type": "code",
   "execution_count": 14,
   "metadata": {},
   "outputs": [],
   "source": [
    "# load\n",
    "in_filename = 'char_sequences.txt'\n",
    "raw_text = load_doc(in_filename)\n",
    "lines = raw_text.split('\\n')"
   ]
  },
  {
   "cell_type": "markdown",
   "metadata": {},
   "source": [
    "### Encode Sequences"
   ]
  },
  {
   "cell_type": "code",
   "execution_count": 15,
   "metadata": {},
   "outputs": [],
   "source": [
    "chars = sorted(list(set(raw_text)))\n",
    "mapping = dict((c, i) for i, c in enumerate(chars))"
   ]
  },
  {
   "cell_type": "code",
   "execution_count": 16,
   "metadata": {},
   "outputs": [],
   "source": [
    "sequences = list()\n",
    "for line in lines:\n",
    "    # integer encode line\n",
    "    encoded_seq = [mapping[char] for char in line]\n",
    "    # store\n",
    "    sequences.append(encoded_seq)"
   ]
  },
  {
   "cell_type": "code",
   "execution_count": 17,
   "metadata": {},
   "outputs": [
    {
     "name": "stdout",
     "output_type": "stream",
     "text": [
      "Vocabulary Size: 58\n"
     ]
    }
   ],
   "source": [
    "# vocabulary size\n",
    "vocab_size = len(mapping)\n",
    "print('Vocabulary Size: %d' % vocab_size)"
   ]
  },
  {
   "cell_type": "code",
   "execution_count": 18,
   "metadata": {},
   "outputs": [],
   "source": [
    "sequences = array(sequences)\n",
    "X, y = sequences[:,:-1], sequences[:,-1]"
   ]
  },
  {
   "cell_type": "code",
   "execution_count": 19,
   "metadata": {},
   "outputs": [],
   "source": [
    "sequences = [to_categorical(x, num_classes=vocab_size) for x in X]\n",
    "X = array(sequences)\n",
    "y = to_categorical(y, num_classes=vocab_size)"
   ]
  },
  {
   "cell_type": "markdown",
   "metadata": {},
   "source": [
    "## Fit Model"
   ]
  },
  {
   "cell_type": "code",
   "execution_count": 20,
   "metadata": {},
   "outputs": [
    {
     "name": "stdout",
     "output_type": "stream",
     "text": [
      "WARNING:tensorflow:From C:\\Users\\Nick.Rhodes\\AppData\\Local\\Continuum\\anaconda3\\lib\\site-packages\\tensorflow\\python\\framework\\op_def_library.py:263: colocate_with (from tensorflow.python.framework.ops) is deprecated and will be removed in a future version.\n",
      "Instructions for updating:\n",
      "Colocations handled automatically by placer.\n",
      "_________________________________________________________________\n",
      "Layer (type)                 Output Shape              Param #   \n",
      "=================================================================\n",
      "lstm_1 (LSTM)                (None, 75)                40200     \n",
      "_________________________________________________________________\n",
      "dense_1 (Dense)              (None, 58)                4408      \n",
      "=================================================================\n",
      "Total params: 44,608\n",
      "Trainable params: 44,608\n",
      "Non-trainable params: 0\n",
      "_________________________________________________________________\n",
      "None\n"
     ]
    }
   ],
   "source": [
    "# define model\n",
    "model = Sequential()\n",
    "model.add(LSTM(75, input_shape=(X.shape[1], X.shape[2])))\n",
    "model.add(Dense(vocab_size, activation='softmax'))\n",
    "print(model.summary())"
   ]
  },
  {
   "cell_type": "code",
   "execution_count": 21,
   "metadata": {},
   "outputs": [
    {
     "name": "stdout",
     "output_type": "stream",
     "text": [
      "WARNING:tensorflow:From C:\\Users\\Nick.Rhodes\\AppData\\Local\\Continuum\\anaconda3\\lib\\site-packages\\tensorflow\\python\\ops\\math_ops.py:3066: to_int32 (from tensorflow.python.ops.math_ops) is deprecated and will be removed in a future version.\n",
      "Instructions for updating:\n",
      "Use tf.cast instead.\n",
      "Epoch 1/100\n",
      " - 13s - loss: 3.0483 - acc: 0.1704\n",
      "Epoch 2/100\n",
      " - 13s - loss: 2.8159 - acc: 0.2101\n",
      "Epoch 3/100\n",
      " - 14s - loss: 2.6008 - acc: 0.2796\n",
      "Epoch 4/100\n",
      " - 19s - loss: 2.4695 - acc: 0.3082\n",
      "Epoch 5/100\n",
      " - 19s - loss: 2.3837 - acc: 0.3315\n",
      "Epoch 6/100\n",
      " - 16s - loss: 2.3159 - acc: 0.3415\n",
      "Epoch 7/100\n",
      " - 14s - loss: 2.2576 - acc: 0.3583\n",
      "Epoch 8/100\n",
      " - 15s - loss: 2.2061 - acc: 0.3703\n",
      "Epoch 9/100\n",
      " - 14s - loss: 2.1619 - acc: 0.3775\n",
      "Epoch 10/100\n",
      " - 16s - loss: 2.1133 - acc: 0.3932\n",
      "Epoch 11/100\n",
      " - 15s - loss: 2.0716 - acc: 0.4042\n",
      "Epoch 12/100\n",
      " - 18s - loss: 2.0332 - acc: 0.4120\n",
      "Epoch 13/100\n",
      " - 17s - loss: 1.9970 - acc: 0.4191\n",
      "Epoch 14/100\n",
      " - 14s - loss: 1.9659 - acc: 0.4297\n",
      "Epoch 15/100\n",
      " - 14s - loss: 1.9320 - acc: 0.4375\n",
      "Epoch 16/100\n",
      " - 19s - loss: 1.9049 - acc: 0.4458\n",
      "Epoch 17/100\n",
      " - 18s - loss: 1.8780 - acc: 0.4486\n",
      "Epoch 18/100\n",
      " - 15s - loss: 1.8511 - acc: 0.4581\n",
      "Epoch 19/100\n",
      " - 16s - loss: 1.8270 - acc: 0.4673\n",
      "Epoch 20/100\n",
      " - 14s - loss: 1.8028 - acc: 0.4743\n",
      "Epoch 21/100\n",
      " - 16s - loss: 1.7791 - acc: 0.4777\n",
      "Epoch 22/100\n",
      " - 16s - loss: 1.7587 - acc: 0.4845\n",
      "Epoch 23/100\n",
      " - 15s - loss: 1.7392 - acc: 0.4880\n",
      "Epoch 24/100\n",
      " - 15s - loss: 1.7169 - acc: 0.4932\n",
      "Epoch 25/100\n",
      " - 15s - loss: 1.6958 - acc: 0.4979\n",
      "Epoch 26/100\n",
      " - 14s - loss: 1.6767 - acc: 0.5016\n",
      "Epoch 27/100\n",
      " - 15s - loss: 1.6594 - acc: 0.5114\n",
      "Epoch 28/100\n",
      " - 15s - loss: 1.6391 - acc: 0.5175\n",
      "Epoch 29/100\n",
      " - 15s - loss: 1.6201 - acc: 0.5206\n",
      "Epoch 30/100\n",
      " - 15s - loss: 1.6016 - acc: 0.5221\n",
      "Epoch 31/100\n",
      " - 14s - loss: 1.5846 - acc: 0.5307\n",
      "Epoch 32/100\n",
      " - 15s - loss: 1.5624 - acc: 0.5337\n",
      "Epoch 33/100\n",
      " - 15s - loss: 1.5423 - acc: 0.5391\n",
      "Epoch 34/100\n",
      " - 18s - loss: 1.5279 - acc: 0.5385\n",
      "Epoch 35/100\n",
      " - 14s - loss: 1.5096 - acc: 0.5498\n",
      "Epoch 36/100\n",
      " - 14s - loss: 1.4901 - acc: 0.5515\n",
      "Epoch 37/100\n",
      " - 13s - loss: 1.4717 - acc: 0.5594\n",
      "Epoch 38/100\n",
      " - 13s - loss: 1.4642 - acc: 0.5567\n",
      "Epoch 39/100\n",
      " - 14s - loss: 1.4465 - acc: 0.5645\n",
      "Epoch 40/100\n",
      " - 14s - loss: 1.4231 - acc: 0.5719\n",
      "Epoch 41/100\n",
      " - 15s - loss: 1.4065 - acc: 0.5804\n",
      "Epoch 42/100\n",
      " - 15s - loss: 1.3928 - acc: 0.5827\n",
      "Epoch 43/100\n",
      " - 15s - loss: 1.3763 - acc: 0.5911\n",
      "Epoch 44/100\n",
      " - 14s - loss: 1.3613 - acc: 0.5929\n",
      "Epoch 45/100\n",
      " - 15s - loss: 1.3437 - acc: 0.5978\n",
      "Epoch 46/100\n",
      " - 16s - loss: 1.3293 - acc: 0.6023\n",
      "Epoch 47/100\n",
      " - 13s - loss: 1.3124 - acc: 0.6081\n",
      "Epoch 48/100\n",
      " - 20s - loss: 1.3023 - acc: 0.6089\n",
      "Epoch 49/100\n",
      " - 23s - loss: 1.2822 - acc: 0.6142\n",
      "Epoch 50/100\n",
      " - 21s - loss: 1.2704 - acc: 0.6176\n",
      "Epoch 51/100\n",
      " - 20s - loss: 1.2546 - acc: 0.6253\n",
      "Epoch 52/100\n",
      " - 16s - loss: 1.2387 - acc: 0.6279\n",
      "Epoch 53/100\n",
      " - 15s - loss: 1.2298 - acc: 0.6300\n",
      "Epoch 54/100\n",
      " - 16s - loss: 1.2090 - acc: 0.6373\n",
      "Epoch 55/100\n",
      " - 18s - loss: 1.1966 - acc: 0.6406\n",
      "Epoch 56/100\n",
      " - 17s - loss: 1.1810 - acc: 0.6519\n",
      "Epoch 57/100\n",
      " - 16s - loss: 1.1715 - acc: 0.6491\n",
      "Epoch 58/100\n",
      " - 14s - loss: 1.1558 - acc: 0.6546\n",
      "Epoch 59/100\n",
      " - 17s - loss: 1.1418 - acc: 0.6593\n",
      "Epoch 60/100\n",
      " - 16s - loss: 1.1280 - acc: 0.6612\n",
      "Epoch 61/100\n",
      " - 16s - loss: 1.1235 - acc: 0.6617\n",
      "Epoch 62/100\n",
      " - 15s - loss: 1.1055 - acc: 0.6701\n",
      "Epoch 63/100\n",
      " - 13s - loss: 1.0916 - acc: 0.6724\n",
      "Epoch 64/100\n",
      " - 14s - loss: 1.0802 - acc: 0.6766\n",
      "Epoch 65/100\n",
      " - 14s - loss: 1.0675 - acc: 0.6787\n",
      "Epoch 66/100\n",
      " - 18s - loss: 1.0579 - acc: 0.6835\n",
      "Epoch 67/100\n",
      " - 16s - loss: 1.0484 - acc: 0.6810\n",
      "Epoch 68/100\n",
      " - 16s - loss: 1.0320 - acc: 0.6923\n",
      "Epoch 69/100\n",
      " - 17s - loss: 1.0243 - acc: 0.6922\n",
      "Epoch 70/100\n",
      " - 16s - loss: 1.0118 - acc: 0.6984\n",
      "Epoch 71/100\n",
      " - 14s - loss: 1.0030 - acc: 0.6998\n",
      "Epoch 72/100\n",
      " - 14s - loss: 0.9909 - acc: 0.7019\n",
      "Epoch 73/100\n",
      " - 17s - loss: 0.9821 - acc: 0.7081\n",
      "Epoch 74/100\n",
      " - 25s - loss: 0.9697 - acc: 0.7115\n",
      "Epoch 75/100\n",
      " - 20s - loss: 0.9575 - acc: 0.7136\n",
      "Epoch 76/100\n",
      " - 14s - loss: 0.9489 - acc: 0.7166\n",
      "Epoch 77/100\n",
      " - 14s - loss: 0.9396 - acc: 0.7194\n",
      "Epoch 78/100\n",
      " - 14s - loss: 0.9285 - acc: 0.7230\n",
      "Epoch 79/100\n",
      " - 16s - loss: 0.9179 - acc: 0.7256\n",
      "Epoch 80/100\n",
      " - 20s - loss: 0.9122 - acc: 0.7265\n",
      "Epoch 81/100\n",
      " - 16s - loss: 0.8987 - acc: 0.7317\n",
      "Epoch 82/100\n",
      " - 16s - loss: 0.8892 - acc: 0.7339\n",
      "Epoch 83/100\n",
      " - 16s - loss: 0.8825 - acc: 0.7357\n",
      "Epoch 84/100\n",
      " - 15s - loss: 0.8780 - acc: 0.7364\n",
      "Epoch 85/100\n",
      " - 16s - loss: 0.8616 - acc: 0.7389\n",
      "Epoch 86/100\n",
      " - 15s - loss: 0.8558 - acc: 0.7435\n",
      "Epoch 87/100\n",
      " - 15s - loss: 0.8454 - acc: 0.7470\n",
      "Epoch 88/100\n",
      " - 17s - loss: 0.8348 - acc: 0.7517\n",
      "Epoch 89/100\n",
      " - 15s - loss: 0.8303 - acc: 0.7523\n",
      "Epoch 90/100\n",
      " - 15s - loss: 0.8207 - acc: 0.7542\n",
      "Epoch 91/100\n",
      " - 14s - loss: 0.8084 - acc: 0.7592\n",
      "Epoch 92/100\n",
      " - 14s - loss: 0.8060 - acc: 0.7603\n",
      "Epoch 93/100\n",
      " - 20s - loss: 0.7936 - acc: 0.7640\n",
      "Epoch 94/100\n",
      " - 16s - loss: 0.7922 - acc: 0.7624\n",
      "Epoch 95/100\n",
      " - 17s - loss: 0.7831 - acc: 0.7700\n",
      "Epoch 96/100\n",
      " - 14s - loss: 0.7748 - acc: 0.7722\n",
      "Epoch 97/100\n",
      " - 16s - loss: 0.7675 - acc: 0.7719\n",
      "Epoch 98/100\n",
      " - 17s - loss: 0.7535 - acc: 0.7752\n",
      "Epoch 99/100\n",
      " - 18s - loss: 0.7498 - acc: 0.7744\n",
      "Epoch 100/100\n",
      " - 17s - loss: 0.7444 - acc: 0.7803\n"
     ]
    },
    {
     "data": {
      "text/plain": [
       "<keras.callbacks.History at 0x15c685c0>"
      ]
     },
     "execution_count": 21,
     "metadata": {},
     "output_type": "execute_result"
    }
   ],
   "source": [
    "# compile model\n",
    "model.compile(loss='categorical_crossentropy', optimizer='adam', metrics=['accuracy'])\n",
    "# fit model\n",
    "model.fit(X, y, epochs=100, verbose=2)"
   ]
  },
  {
   "cell_type": "markdown",
   "metadata": {},
   "source": [
    "## Save Model"
   ]
  },
  {
   "cell_type": "code",
   "execution_count": 22,
   "metadata": {},
   "outputs": [],
   "source": [
    "# save the model to file\n",
    "model.save('model.h5')\n",
    "\n",
    "# save the mapping\n",
    "dump(mapping, open('mapping.pkl', 'wb'))"
   ]
  },
  {
   "cell_type": "markdown",
   "metadata": {},
   "source": [
    "## Generate Text"
   ]
  },
  {
   "cell_type": "code",
   "execution_count": 23,
   "metadata": {},
   "outputs": [],
   "source": [
    "# load the model\n",
    "model = load_model('model.h5')\n",
    "\n",
    "# load the mapping\n",
    "mapping = load(open('mapping.pkl', 'rb'))"
   ]
  },
  {
   "cell_type": "code",
   "execution_count": 24,
   "metadata": {},
   "outputs": [],
   "source": [
    "def generate_seq(model, mapping, seq_length, seed_text, n_chars):\n",
    "    in_text = seed_text\n",
    "    # generate a fixed number of characters\n",
    "    for _ in range(n_chars):\n",
    "        # encode the characters as integers\n",
    "        encoded = [mapping[char] for char in in_text]\n",
    "        # truncate sequences to a fixed length\n",
    "        encoded = pad_sequences([encoded], maxlen=seq_length, truncating='pre')\n",
    "        # one hot encode\n",
    "        encoded = to_categorical(encoded, num_classes=len(mapping))\n",
    "        # predict character\n",
    "        yhat = model.predict_classes(encoded, verbose=0)\n",
    "        # reverse map integer to character\n",
    "        out_char = ''\n",
    "        for char, index in mapping.items():\n",
    "            if index == yhat:\n",
    "                out_char = char\n",
    "                break\n",
    "        # append to input\n",
    "        in_text += char\n",
    "    return in_text"
   ]
  },
  {
   "cell_type": "code",
   "execution_count": 35,
   "metadata": {},
   "outputs": [
    {
     "name": "stdout",
     "output_type": "stream",
     "text": [
      "The family of Dashwood had long many prease which had an encunction to his well how on for the sisters, was as secundsine many proprestion were theirs\n",
      "settled in sussexs, which advantinion, to him entered; and which in his eas, the and in a romish them and then shemself wishly her herste\n",
      "hello worly, and fare of his wife and sane as a poredanted by his nepenter and chearter and has a trould was arracy on the conditi\n"
     ]
    }
   ],
   "source": [
    "# test start of rhyme\n",
    "print(generate_seq(model, mapping, length, 'The family of Dashwood had lon', length*2))\n",
    "# test mid-line\n",
    "print(generate_seq(model, mapping, length, 'settled in sussex', length*2))\n",
    "# test not in original\n",
    "print(generate_seq(model, mapping, length, 'hello worl', length*2))"
   ]
  },
  {
   "cell_type": "code",
   "execution_count": null,
   "metadata": {},
   "outputs": [],
   "source": []
  }
 ],
 "metadata": {
  "kernelspec": {
   "display_name": "Python 3",
   "language": "python",
   "name": "python3"
  },
  "language_info": {
   "codemirror_mode": {
    "name": "ipython",
    "version": 3
   },
   "file_extension": ".py",
   "mimetype": "text/x-python",
   "name": "python",
   "nbconvert_exporter": "python",
   "pygments_lexer": "ipython3",
   "version": "3.6.8"
  }
 },
 "nbformat": 4,
 "nbformat_minor": 2
}
