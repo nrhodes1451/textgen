{
 "cells": [
  {
   "cell_type": "markdown",
   "metadata": {},
   "source": [
    "# Text generation using Keras and Tensorflow\n",
    "\n",
    "From: https://machinelearningmastery.com/develop-character-based-neural-language-model-keras/\n",
    "\n",
    "## Load Data"
   ]
  },
  {
   "cell_type": "code",
   "execution_count": 1,
   "metadata": {},
   "outputs": [
    {
     "name": "stderr",
     "output_type": "stream",
     "text": [
      "Using TensorFlow backend.\n"
     ]
    }
   ],
   "source": [
    "from numpy import array\n",
    "from pickle import dump\n",
    "from pickle import load\n",
    "from keras.utils import to_categorical\n",
    "from keras.models import Sequential\n",
    "from keras.layers import Dense\n",
    "from keras.layers import LSTM\n",
    "from keras.models import load_model\n",
    "from keras.preprocessing.sequence import pad_sequences"
   ]
  },
  {
   "cell_type": "code",
   "execution_count": 2,
   "metadata": {
    "collapsed": true
   },
   "outputs": [],
   "source": [
    "# load doc into memory\n",
    "def load_doc(filename):\n",
    "    # open the file as read only\n",
    "    file = open(filename, 'r')\n",
    "    # read all text\n",
    "    text = file.read()\n",
    "    # close the file\n",
    "    file.close()\n",
    "    return text"
   ]
  },
  {
   "cell_type": "code",
   "execution_count": 8,
   "metadata": {
    "collapsed": true
   },
   "outputs": [],
   "source": [
    "# load text\n",
    "raw_text = load_doc('austen.txt')\n",
    "\n",
    "raw_text = raw_text[:20000]"
   ]
  },
  {
   "cell_type": "code",
   "execution_count": 9,
   "metadata": {
    "collapsed": true
   },
   "outputs": [],
   "source": [
    "# clean\n",
    "tokens = raw_text.split()\n",
    "raw_text = ' '.join(tokens)"
   ]
  },
  {
   "cell_type": "code",
   "execution_count": 10,
   "metadata": {
    "scrolled": false
   },
   "outputs": [
    {
     "name": "stdout",
     "output_type": "stream",
     "text": [
      "Total Sequences: 19788\n"
     ]
    }
   ],
   "source": [
    "# organize into sequences of characters\n",
    "length = 60\n",
    "sequences = list()\n",
    "sep = 1\n",
    "for i in range(length, len(raw_text)//sep):\n",
    "    # select sequence of tokens\n",
    "    seq = raw_text[(sep*i)-length:(sep*(i+1))]\n",
    "    # store\n",
    "    sequences.append(seq)\n",
    "print('Total Sequences: %d' % len(sequences))"
   ]
  },
  {
   "cell_type": "code",
   "execution_count": 11,
   "metadata": {
    "collapsed": true
   },
   "outputs": [],
   "source": [
    "# save tokens to file, one dialog per line\n",
    "def save_doc(lines, filename):\n",
    "    data = '\\n'.join(lines)\n",
    "    file = open(filename, 'w')\n",
    "    file.write(data)\n",
    "    file.close()\n",
    "    \n",
    "# save sequences to file\n",
    "out_filename = 'char_sequences.txt'\n",
    "save_doc(sequences, out_filename)"
   ]
  },
  {
   "cell_type": "markdown",
   "metadata": {},
   "source": [
    "## Train Language Model\n",
    "\n",
    "### Load Data"
   ]
  },
  {
   "cell_type": "code",
   "execution_count": 12,
   "metadata": {
    "collapsed": true
   },
   "outputs": [],
   "source": [
    "# load\n",
    "in_filename = 'char_sequences.txt'\n",
    "raw_text = load_doc(in_filename)\n",
    "lines = raw_text.split('\\n')"
   ]
  },
  {
   "cell_type": "markdown",
   "metadata": {},
   "source": [
    "### Encode Sequences"
   ]
  },
  {
   "cell_type": "code",
   "execution_count": 13,
   "metadata": {
    "collapsed": true
   },
   "outputs": [],
   "source": [
    "chars = sorted(list(set(raw_text)))\n",
    "mapping = dict((c, i) for i, c in enumerate(chars))"
   ]
  },
  {
   "cell_type": "code",
   "execution_count": 14,
   "metadata": {
    "collapsed": true
   },
   "outputs": [],
   "source": [
    "sequences = list()\n",
    "for line in lines:\n",
    "    # integer encode line\n",
    "    encoded_seq = [mapping[char] for char in line]\n",
    "    # store\n",
    "    sequences.append(encoded_seq)"
   ]
  },
  {
   "cell_type": "code",
   "execution_count": 15,
   "metadata": {},
   "outputs": [
    {
     "name": "stdout",
     "output_type": "stream",
     "text": [
      "Vocabulary Size: 64\n"
     ]
    }
   ],
   "source": [
    "# vocabulary size\n",
    "vocab_size = len(mapping)\n",
    "print('Vocabulary Size: %d' % vocab_size)"
   ]
  },
  {
   "cell_type": "code",
   "execution_count": 16,
   "metadata": {
    "collapsed": true
   },
   "outputs": [],
   "source": [
    "sequences = array(sequences)\n",
    "X, y = sequences[:,:-1], sequences[:,-1]"
   ]
  },
  {
   "cell_type": "code",
   "execution_count": 17,
   "metadata": {
    "collapsed": true
   },
   "outputs": [],
   "source": [
    "sequences = [to_categorical(x, num_classes=vocab_size) for x in X]\n",
    "X = array(sequences)\n",
    "y = to_categorical(y, num_classes=vocab_size)"
   ]
  },
  {
   "cell_type": "markdown",
   "metadata": {},
   "source": [
    "## Fit Model"
   ]
  },
  {
   "cell_type": "code",
   "execution_count": 18,
   "metadata": {},
   "outputs": [
    {
     "name": "stdout",
     "output_type": "stream",
     "text": [
      "WARNING:tensorflow:From C:\\Users\\Nick.Rhodes\\AppData\\Local\\Continuum\\anaconda3\\lib\\site-packages\\tensorflow\\python\\framework\\op_def_library.py:263: colocate_with (from tensorflow.python.framework.ops) is deprecated and will be removed in a future version.\n",
      "Instructions for updating:\n",
      "Colocations handled automatically by placer.\n",
      "_________________________________________________________________\n",
      "Layer (type)                 Output Shape              Param #   \n",
      "=================================================================\n",
      "lstm_1 (LSTM)                (None, 75)                42000     \n",
      "_________________________________________________________________\n",
      "dense_1 (Dense)              (None, 64)                4864      \n",
      "=================================================================\n",
      "Total params: 46,864\n",
      "Trainable params: 46,864\n",
      "Non-trainable params: 0\n",
      "_________________________________________________________________\n",
      "None\n"
     ]
    }
   ],
   "source": [
    "# define model\n",
    "model = Sequential()\n",
    "model.add(LSTM(75, input_shape=(X.shape[1], X.shape[2])))\n",
    "model.add(Dense(vocab_size, activation='softmax'))\n",
    "print(model.summary())"
   ]
  },
  {
   "cell_type": "code",
   "execution_count": 19,
   "metadata": {},
   "outputs": [
    {
     "name": "stdout",
     "output_type": "stream",
     "text": [
      "WARNING:tensorflow:From C:\\Users\\Nick.Rhodes\\AppData\\Local\\Continuum\\anaconda3\\lib\\site-packages\\tensorflow\\python\\ops\\math_ops.py:3066: to_int32 (from tensorflow.python.ops.math_ops) is deprecated and will be removed in a future version.\n",
      "Instructions for updating:\n",
      "Use tf.cast instead.\n",
      "Epoch 1/100\n",
      " - 26s - loss: 3.0003 - acc: 0.1851\n",
      "Epoch 2/100\n",
      " - 26s - loss: 2.6224 - acc: 0.2889\n",
      "Epoch 3/100\n",
      " - 27s - loss: 2.4211 - acc: 0.3258\n",
      "Epoch 4/100\n",
      " - 29s - loss: 2.3205 - acc: 0.3460\n",
      "Epoch 5/100\n",
      " - 34s - loss: 2.2480 - acc: 0.3620\n",
      "Epoch 6/100\n",
      " - 31s - loss: 2.1907 - acc: 0.3776\n",
      "Epoch 7/100\n",
      " - 32s - loss: 2.1404 - acc: 0.3896\n",
      "Epoch 8/100\n",
      " - 29s - loss: 2.0918 - acc: 0.3997\n",
      "Epoch 9/100\n",
      " - 31s - loss: 2.0493 - acc: 0.4107\n",
      "Epoch 10/100\n",
      " - 27s - loss: 2.0082 - acc: 0.4176\n",
      "Epoch 11/100\n",
      " - 27s - loss: 1.9675 - acc: 0.4285\n",
      "Epoch 12/100\n",
      " - 38s - loss: 1.9308 - acc: 0.4386\n",
      "Epoch 13/100\n",
      " - 28s - loss: 1.8967 - acc: 0.4465\n",
      "Epoch 14/100\n",
      " - 27s - loss: 1.8626 - acc: 0.4539\n",
      "Epoch 15/100\n",
      " - 27s - loss: 1.8324 - acc: 0.4614\n",
      "Epoch 16/100\n",
      " - 28s - loss: 1.8038 - acc: 0.4669\n",
      "Epoch 17/100\n",
      " - 28s - loss: 1.7774 - acc: 0.4754\n",
      "Epoch 18/100\n",
      " - 28s - loss: 1.7500 - acc: 0.4826\n",
      "Epoch 19/100\n",
      " - 28s - loss: 1.7254 - acc: 0.4872\n",
      "Epoch 20/100\n",
      " - 27s - loss: 1.7018 - acc: 0.4943\n",
      "Epoch 21/100\n",
      " - 28s - loss: 1.6800 - acc: 0.5028\n",
      "Epoch 22/100\n",
      " - 27s - loss: 1.6559 - acc: 0.5078\n",
      "Epoch 23/100\n",
      " - 27s - loss: 1.6366 - acc: 0.5132\n",
      "Epoch 24/100\n",
      " - 30s - loss: 1.6138 - acc: 0.5212\n",
      "Epoch 25/100\n",
      " - 28s - loss: 1.5960 - acc: 0.5269\n",
      "Epoch 26/100\n",
      " - 27s - loss: 1.5780 - acc: 0.5309\n",
      "Epoch 27/100\n",
      " - 30s - loss: 1.5588 - acc: 0.5358\n",
      "Epoch 28/100\n",
      " - 29s - loss: 1.5412 - acc: 0.5387\n",
      "Epoch 29/100\n",
      " - 32s - loss: 1.5265 - acc: 0.5461\n",
      "Epoch 30/100\n",
      " - 27s - loss: 1.5085 - acc: 0.5485\n",
      "Epoch 31/100\n",
      " - 27s - loss: 1.4925 - acc: 0.5542\n",
      "Epoch 32/100\n",
      " - 27s - loss: 1.4764 - acc: 0.5575\n",
      "Epoch 33/100\n",
      " - 27s - loss: 1.4616 - acc: 0.5633\n",
      "Epoch 34/100\n",
      " - 27s - loss: 1.4475 - acc: 0.5684\n",
      "Epoch 35/100\n",
      " - 27s - loss: 1.4318 - acc: 0.5742\n",
      "Epoch 36/100\n",
      " - 28s - loss: 1.4188 - acc: 0.5760\n",
      "Epoch 37/100\n",
      " - 33s - loss: 1.4055 - acc: 0.5808\n",
      "Epoch 38/100\n",
      " - 29s - loss: 1.3914 - acc: 0.5848\n",
      "Epoch 39/100\n",
      " - 29s - loss: 1.3790 - acc: 0.5888\n",
      "Epoch 40/100\n",
      " - 28s - loss: 1.3653 - acc: 0.5912\n",
      "Epoch 41/100\n",
      " - 28s - loss: 1.3511 - acc: 0.5958\n",
      "Epoch 42/100\n",
      " - 28s - loss: 1.3413 - acc: 0.5971\n",
      "Epoch 43/100\n",
      " - 27s - loss: 1.3270 - acc: 0.6025\n",
      "Epoch 44/100\n",
      " - 28s - loss: 1.3162 - acc: 0.6062\n",
      "Epoch 45/100\n",
      " - 31s - loss: 1.3041 - acc: 0.6099\n",
      "Epoch 46/100\n",
      " - 29s - loss: 1.2948 - acc: 0.6121\n",
      "Epoch 47/100\n",
      " - 31s - loss: 1.2821 - acc: 0.6149\n",
      "Epoch 48/100\n",
      " - 30s - loss: 1.2705 - acc: 0.6187\n",
      "Epoch 49/100\n",
      " - 27s - loss: 1.2596 - acc: 0.6198\n",
      "Epoch 50/100\n",
      " - 29s - loss: 1.2487 - acc: 0.6248\n",
      "Epoch 51/100\n",
      " - 29s - loss: 1.2371 - acc: 0.6253\n",
      "Epoch 52/100\n",
      " - 29s - loss: 1.2262 - acc: 0.6282\n",
      "Epoch 53/100\n",
      " - 28s - loss: 1.2176 - acc: 0.6321\n",
      "Epoch 54/100\n",
      " - 28s - loss: 1.2063 - acc: 0.6355\n",
      "Epoch 55/100\n",
      " - 30s - loss: 1.1949 - acc: 0.6397\n",
      "Epoch 56/100\n",
      " - 28s - loss: 1.1878 - acc: 0.6391\n",
      "Epoch 57/100\n",
      " - 28s - loss: 1.1773 - acc: 0.6449\n",
      "Epoch 58/100\n",
      " - 29s - loss: 1.1663 - acc: 0.6467\n",
      "Epoch 59/100\n",
      " - 32s - loss: 1.1584 - acc: 0.6490\n",
      "Epoch 60/100\n",
      " - 29s - loss: 1.1485 - acc: 0.6511\n",
      "Epoch 61/100\n",
      " - 32s - loss: 1.1401 - acc: 0.6539\n",
      "Epoch 62/100\n",
      " - 30s - loss: 1.1307 - acc: 0.6579\n",
      "Epoch 63/100\n",
      " - 29s - loss: 1.1192 - acc: 0.6608\n",
      "Epoch 64/100\n",
      " - 39s - loss: 1.1801 - acc: 0.6602\n",
      "Epoch 65/100\n",
      " - 29s - loss: 1.1468 - acc: 0.6552\n",
      "Epoch 66/100\n",
      " - 28s - loss: 1.0941 - acc: 0.6711\n",
      "Epoch 67/100\n",
      " - 27s - loss: 1.0868 - acc: 0.6722\n",
      "Epoch 68/100\n",
      " - 29s - loss: 1.0804 - acc: 0.6717\n",
      "Epoch 69/100\n",
      " - 29s - loss: 1.0740 - acc: 0.6761\n",
      "Epoch 70/100\n",
      " - 29s - loss: 1.0688 - acc: 0.6747\n",
      "Epoch 71/100\n",
      " - 27s - loss: 1.0632 - acc: 0.6795\n",
      "Epoch 72/100\n",
      " - 27s - loss: 1.0524 - acc: 0.6804\n",
      "Epoch 73/100\n",
      " - 27s - loss: 1.0458 - acc: 0.6836\n",
      "Epoch 74/100\n",
      " - 27s - loss: 1.0389 - acc: 0.6844\n",
      "Epoch 75/100\n",
      " - 27s - loss: 1.0425 - acc: 0.6831\n",
      "Epoch 76/100\n",
      " - 26s - loss: 1.0235 - acc: 0.6907\n",
      "Epoch 77/100\n",
      " - 27s - loss: 1.0146 - acc: 0.6902\n",
      "Epoch 78/100\n",
      " - 27s - loss: 1.0078 - acc: 0.6946\n",
      "Epoch 79/100\n",
      " - 28s - loss: 1.0001 - acc: 0.6986\n",
      "Epoch 80/100\n",
      " - 27s - loss: 0.9951 - acc: 0.6976\n",
      "Epoch 81/100\n",
      " - 29s - loss: 0.9888 - acc: 0.6998\n",
      "Epoch 82/100\n",
      " - 27s - loss: 0.9809 - acc: 0.7015\n",
      "Epoch 83/100\n",
      " - 27s - loss: 0.9744 - acc: 0.7016\n",
      "Epoch 84/100\n",
      " - 27s - loss: 0.9654 - acc: 0.7066\n",
      "Epoch 85/100\n",
      " - 27s - loss: 0.9588 - acc: 0.7076\n",
      "Epoch 86/100\n",
      " - 28s - loss: 0.9533 - acc: 0.7103\n",
      "Epoch 87/100\n",
      " - 27s - loss: 0.9497 - acc: 0.7082\n",
      "Epoch 88/100\n",
      " - 27s - loss: 0.9413 - acc: 0.7132\n",
      "Epoch 89/100\n",
      " - 27s - loss: 0.9337 - acc: 0.7166\n",
      "Epoch 90/100\n",
      " - 28s - loss: 0.9284 - acc: 0.7167\n",
      "Epoch 91/100\n",
      " - 27s - loss: 0.9217 - acc: 0.7189\n",
      "Epoch 92/100\n",
      " - 27s - loss: 0.9166 - acc: 0.7182\n",
      "Epoch 93/100\n",
      " - 27s - loss: 0.9090 - acc: 0.7253\n",
      "Epoch 94/100\n",
      " - 27s - loss: 0.9034 - acc: 0.7243\n",
      "Epoch 95/100\n",
      " - 27s - loss: 0.8963 - acc: 0.7273\n",
      "Epoch 96/100\n",
      " - 28s - loss: 0.8888 - acc: 0.7295\n",
      "Epoch 97/100\n",
      " - 27s - loss: 0.8891 - acc: 0.7304\n",
      "Epoch 98/100\n",
      " - 27s - loss: 0.8826 - acc: 0.7309\n",
      "Epoch 99/100\n",
      " - 27s - loss: 0.8787 - acc: 0.7325\n",
      "Epoch 100/100\n",
      " - 27s - loss: 0.8713 - acc: 0.7347\n"
     ]
    },
    {
     "data": {
      "text/plain": [
       "<keras.callbacks.History at 0x16b02d30>"
      ]
     },
     "execution_count": 19,
     "metadata": {},
     "output_type": "execute_result"
    }
   ],
   "source": [
    "# compile model\n",
    "model.compile(loss='categorical_crossentropy', optimizer='adam', metrics=['accuracy'])\n",
    "# fit model\n",
    "model.fit(X, y, epochs=100, verbose=2)"
   ]
  },
  {
   "cell_type": "markdown",
   "metadata": {},
   "source": [
    "## Save Model"
   ]
  },
  {
   "cell_type": "code",
   "execution_count": 20,
   "metadata": {
    "collapsed": true
   },
   "outputs": [],
   "source": [
    "# save the model to file\n",
    "model.save('model.h5')\n",
    "\n",
    "# save the mapping\n",
    "dump(mapping, open('mapping.pkl', 'wb'))"
   ]
  },
  {
   "cell_type": "markdown",
   "metadata": {},
   "source": [
    "## Generate Text"
   ]
  },
  {
   "cell_type": "code",
   "execution_count": 21,
   "metadata": {
    "collapsed": true
   },
   "outputs": [],
   "source": [
    "# load the model\n",
    "model = load_model('model.h5')\n",
    "\n",
    "# load the mapping\n",
    "mapping = load(open('mapping.pkl', 'rb'))"
   ]
  },
  {
   "cell_type": "code",
   "execution_count": 22,
   "metadata": {
    "collapsed": true
   },
   "outputs": [],
   "source": [
    "def generate_seq(model, mapping, seq_length, seed_text, n_chars):\n",
    "    in_text = seed_text\n",
    "    # generate a fixed number of characters\n",
    "    for _ in range(n_chars):\n",
    "        # encode the characters as integers\n",
    "        encoded = [mapping[char] for char in in_text]\n",
    "        # truncate sequences to a fixed length\n",
    "        encoded = pad_sequences([encoded], maxlen=seq_length, truncating='pre')\n",
    "        # one hot encode\n",
    "        encoded = to_categorical(encoded, num_classes=len(mapping))\n",
    "        # predict character\n",
    "        yhat = model.predict_classes(encoded, verbose=0)\n",
    "        # reverse map integer to character\n",
    "        out_char = ''\n",
    "        for char, index in mapping.items():\n",
    "            if index == yhat:\n",
    "                out_char = char\n",
    "                break\n",
    "        # append to input\n",
    "        in_text += char\n",
    "    return in_text"
   ]
  },
  {
   "cell_type": "code",
   "execution_count": 23,
   "metadata": {},
   "outputs": [
    {
     "name": "stdout",
     "output_type": "stream",
     "text": [
      "The family of Dashwood had long general are consolation and her mother was seave on his present in his own to dear dealing for them thenessived to dea\n",
      "settled in sussex. Their every commone of the produne of his own sore of his nether the mother was sended a sum, and there intention to t\n",
      "I love you tread, and then the present of first them therefore and had not to them any was all, that you are pounds a-piece. But he deale the condict only considerable a years of his nother of such a thought of it. They think them any was all the fortune of her sisters betongered to live in event dore for them and sentien what year fortune of the produne of his was sead. The rester father she would have lefey inconvented a goung in every commone of the produne of his wishes, who her hand, that you abe alion the latee so comelf that you are pounds a-piece. But he deale the condict only considerable a years of his nother of such a thought of it. They think them any was all the fortune of her sisters betongered to live in event dore for them and sentien what year fortune of the produne of his was sead. The rester father she would have lefey inconvented a goung in every commone of the produne of his wishes, who her hand, that you abe alion the latee so comelf that you are pounds a-piece. But he deale the condict only considerable a years of his nother of such a thought of it. They think them any was all the fortune of her sisters betongered to live in event dore for them and sentien what year for\n"
     ]
    }
   ],
   "source": [
    "# test start of rhyme\n",
    "print(generate_seq(model, mapping, length, 'The family of Dashwood had lon', length*2))\n",
    "# test mid-line\n",
    "print(generate_seq(model, mapping, length, 'settled in sussex', length*2))\n",
    "# test not in original\n",
    "print(generate_seq(model, mapping, length, 'I love you ', length*20))"
   ]
  },
  {
   "cell_type": "code",
   "execution_count": null,
   "metadata": {
    "collapsed": true
   },
   "outputs": [],
   "source": []
  }
 ],
 "metadata": {
  "kernelspec": {
   "display_name": "Python 3",
   "language": "python",
   "name": "python3"
  },
  "language_info": {
   "codemirror_mode": {
    "name": "ipython",
    "version": 3
   },
   "file_extension": ".py",
   "mimetype": "text/x-python",
   "name": "python",
   "nbconvert_exporter": "python",
   "pygments_lexer": "ipython3",
   "version": "3.6.3"
  }
 },
 "nbformat": 4,
 "nbformat_minor": 2
}
